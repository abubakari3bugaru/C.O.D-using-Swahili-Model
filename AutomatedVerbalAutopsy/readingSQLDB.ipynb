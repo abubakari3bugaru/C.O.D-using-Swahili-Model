{
 "cells": [
  {
   "cell_type": "code",
   "execution_count": 1,
   "id": "3478b03c-d893-4ea1-bcb1-a3b070012b5f",
   "metadata": {
    "tags": []
   },
   "outputs": [],
   "source": [
    "%load_ext sql"
   ]
  },
  {
   "cell_type": "code",
   "execution_count": 3,
   "id": "7f4ac137-5345-4e26-84ed-e68d7c693651",
   "metadata": {
    "tags": []
   },
   "outputs": [],
   "source": [
    "%sql sqlite://"
   ]
  },
  {
   "cell_type": "code",
   "execution_count": 6,
   "id": "e5074404-6f66-45af-a7d0-a92259501146",
   "metadata": {
    "tags": []
   },
   "outputs": [
    {
     "name": "stdout",
     "output_type": "stream",
     "text": [
      "*  sqlite://\n",
      "(sqlite3.OperationalError) near \"SHOW\": syntax error\n",
      "[SQL: SHOW TABLE]\n",
      "(Background on this error at: https://sqlalche.me/e/20/e3q8)\n"
     ]
    }
   ],
   "source": [
    "%sql SHOW TABLE"
   ]
  },
  {
   "cell_type": "code",
   "execution_count": null,
   "id": "06c2a8b2-81b8-4faa-8135-777949c727af",
   "metadata": {},
   "outputs": [],
   "source": []
  }
 ],
 "metadata": {
  "kernelspec": {
   "display_name": "Python 3 (ipykernel)",
   "language": "python",
   "name": "python3"
  },
  "language_info": {
   "codemirror_mode": {
    "name": "ipython",
    "version": 3
   },
   "file_extension": ".py",
   "mimetype": "text/x-python",
   "name": "python",
   "nbconvert_exporter": "python",
   "pygments_lexer": "ipython3",
   "version": "3.11.3"
  }
 },
 "nbformat": 4,
 "nbformat_minor": 5
}
